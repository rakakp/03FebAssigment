{
 "cells": [
  {
   "cell_type": "code",
   "execution_count": 1,
   "id": "69cbd11d-5f4f-4175-91e4-036c005bd1cd",
   "metadata": {},
   "outputs": [
    {
     "data": {
      "text/plain": [
       "'Q1. Which keyword is used to create a function? Create a function to return a list of odd numbers in the\\nrange of 1 to 25.'"
      ]
     },
     "execution_count": 1,
     "metadata": {},
     "output_type": "execute_result"
    }
   ],
   "source": [
    "'''Q1. Which keyword is used to create a function? Create a function to return a list of odd numbers in the\n",
    "range of 1 to 25.'''\n"
   ]
  },
  {
   "cell_type": "code",
   "execution_count": 2,
   "id": "6dcd522f-dd7f-42b5-9ec3-1100728d4ad9",
   "metadata": {},
   "outputs": [
    {
     "name": "stdout",
     "output_type": "stream",
     "text": [
      "1\n",
      "3\n",
      "5\n",
      "7\n",
      "9\n",
      "11\n",
      "13\n",
      "15\n",
      "17\n",
      "19\n",
      "21\n",
      "23\n",
      "25\n"
     ]
    }
   ],
   "source": [
    "def odd_numbers(range_num):\n",
    "    for i in range(1,range_num+1):\n",
    "        '''print(i) '''\n",
    "        if i % 2 != 0 :\n",
    "            print(i)\n",
    "odd_numbers(25)"
   ]
  },
  {
   "cell_type": "code",
   "execution_count": 3,
   "id": "b1552150-ad05-4507-a70b-0bc8819900f1",
   "metadata": {},
   "outputs": [
    {
     "data": {
      "text/plain": [
       "\"Q7. Write a List Comprehension to iterate through the given string: ‘pwskills’.\\nExpected output: ['p', 'w', 's', 'k', 'i', 'l', 'l', 's']\""
      ]
     },
     "execution_count": 3,
     "metadata": {},
     "output_type": "execute_result"
    }
   ],
   "source": [
    "'''Q7. Write a List Comprehension to iterate through the given string: ‘pwskills’.\n",
    "Expected output: ['p', 'w', 's', 'k', 'i', 'l', 'l', 's']'''"
   ]
  },
  {
   "cell_type": "code",
   "execution_count": 4,
   "id": "e7251b8d-0802-4a3f-b8a5-d889119c085c",
   "metadata": {},
   "outputs": [
    {
     "name": "stdout",
     "output_type": "stream",
     "text": [
      "1\n",
      "3\n",
      "5\n",
      "7\n",
      "9\n",
      "11\n",
      "13\n",
      "15\n",
      "17\n",
      "19\n",
      "21\n",
      "23\n",
      "25\n",
      "27\n",
      "29\n",
      "31\n",
      "33\n",
      "35\n",
      "37\n",
      "39\n",
      "41\n",
      "43\n",
      "45\n",
      "47\n",
      "49\n",
      "51\n",
      "53\n",
      "55\n",
      "57\n",
      "59\n",
      "61\n",
      "63\n",
      "65\n",
      "67\n",
      "69\n",
      "71\n",
      "73\n",
      "75\n",
      "77\n",
      "79\n",
      "81\n",
      "83\n",
      "85\n",
      "87\n",
      "89\n",
      "91\n",
      "93\n",
      "95\n",
      "97\n",
      "99\n"
     ]
    }
   ],
   "source": [
    "a =\"pwskills\"\n",
    "[ c for c in a ]\n",
    "\n",
    "''' Q9. Write a code to print odd numbers from 1 to 100 using list comprehension. '''\n",
    "start_range = 1\n",
    "end_range = 100\n",
    "def print_odd_numbers(start_range,end_range):\n",
    "    for i in range(start_range,end_range+1):\n",
    "        '''print(i) '''\n",
    "        if i % 2 != 0 :\n",
    "            print(i)\n",
    "print_odd_numbers(start_range,end_range)"
   ]
  },
  {
   "cell_type": "code",
   "execution_count": 5,
   "id": "8ea9ecf4-f84d-4f52-a214-4f489854b37b",
   "metadata": {},
   "outputs": [
    {
     "data": {
      "text/plain": [
       "' Q8. Write a python program to check whether a given number is Palindrome or not using a while loop.'"
      ]
     },
     "execution_count": 5,
     "metadata": {},
     "output_type": "execute_result"
    }
   ],
   "source": [
    "''' Q8. Write a python program to check whether a given number is Palindrome or not using a while loop.'''"
   ]
  },
  {
   "cell_type": "code",
   "execution_count": 6,
   "id": "569a37d8-8d19-45e6-9095-c07816ac7209",
   "metadata": {},
   "outputs": [
    {
     "data": {
      "text/plain": [
       "'\\nnum = 303\\n\\n333%10 = 3  reminder\\n333 - 3 = 330\\torgn= orgn - reminder\\n330/10 = 33\\t\\torgn= orgn/10\\n300 - 0 '"
      ]
     },
     "execution_count": 6,
     "metadata": {},
     "output_type": "execute_result"
    }
   ],
   "source": [
    "'''\n",
    "num = 303\n",
    "\n",
    "333%10 = 3  reminder\n",
    "333 - 3 = 330\torgn= orgn - reminder\n",
    "330/10 = 33\t\torgn= orgn/10\n",
    "300 - 0 '''"
   ]
  },
  {
   "cell_type": "code",
   "execution_count": 7,
   "id": "8ffc1bba-8cee-4faa-98bf-72ea539a3f59",
   "metadata": {},
   "outputs": [
    {
     "name": "stdout",
     "output_type": "stream",
     "text": [
      "[3, 3, 4, 2]\n",
      "[2, 4, 3, 3]\n",
      "2 3\n",
      "Not a Palindrom\n"
     ]
    }
   ],
   "source": [
    "rnum = []\n",
    "i = 0\n",
    "orgn = 2433\n",
    "while orgn :\n",
    "    reminder = orgn%10\n",
    "    rnum.append(reminder)\n",
    "    orgn = orgn - reminder\n",
    "    orgn= int(orgn/10)\n",
    "    i = i + 1\n",
    "print(rnum)\n",
    "onum = rnum[::-1]\n",
    "print(onum)\n",
    "\n",
    "def check_palindrom(onum):\n",
    "    for i in range(len(onum)):\n",
    "        print(onum[i],onum[-1-i]) \n",
    "        if onum[i] == onum[-1-i]:\n",
    "            print(\"4444\")\n",
    "        else:\n",
    "            print(\"Not a Palindrom\")\n",
    "            break\n",
    "check_palindrom(onum)"
   ]
  },
  {
   "cell_type": "code",
   "execution_count": 8,
   "id": "865ecfc3-547a-47d5-8abe-454beed96829",
   "metadata": {},
   "outputs": [
    {
     "data": {
      "text/plain": [
       "' Q6. Write a python program to print the first 10 Fibonacci numbers using a while loop. '"
      ]
     },
     "execution_count": 8,
     "metadata": {},
     "output_type": "execute_result"
    }
   ],
   "source": [
    "''' Q6. Write a python program to print the first 10 Fibonacci numbers using a while loop. '''"
   ]
  },
  {
   "cell_type": "code",
   "execution_count": 9,
   "id": "596ca421-f891-4713-8f32-a309cafb8e1e",
   "metadata": {},
   "outputs": [
    {
     "name": "stdout",
     "output_type": "stream",
     "text": [
      "[0, 1, 1, 2, 3, 5, 8]\n"
     ]
    }
   ],
   "source": [
    "def fabonaci(num):\n",
    "    a,b = 0,1\n",
    "    ab = []\n",
    "    ab.append(0)\n",
    "    ab.append(1)\n",
    "    \n",
    "    while num > 0:\n",
    "        fab = a + b\n",
    "        ab.append(fab)\n",
    "        a,b = b,fab\n",
    "        num = num - 1\n",
    "    return ab\n",
    "\n",
    "print(fabonaci(5))\n"
   ]
  },
  {
   "cell_type": "code",
   "execution_count": 10,
   "id": "64b52c53-0234-4073-aae4-4af0ec2a92c2",
   "metadata": {},
   "outputs": [
    {
     "data": {
      "text/plain": [
       "' Q2. Why *args and **kwargs is used in some functions? Create a function each for *args and **kwargs\\nto demonstrate their use. '"
      ]
     },
     "execution_count": 10,
     "metadata": {},
     "output_type": "execute_result"
    }
   ],
   "source": [
    "''' Q2. Why *args and **kwargs is used in some functions? Create a function each for *args and **kwargs\n",
    "to demonstrate their use. '''"
   ]
  },
  {
   "cell_type": "code",
   "execution_count": 11,
   "id": "c4ab6e9b-b09b-41ee-846f-f59bbab5728f",
   "metadata": {},
   "outputs": [
    {
     "data": {
      "text/plain": [
       "'*args - takes variable nuer of arguments for a function\\n**kwargs - takes dictionary args '"
      ]
     },
     "execution_count": 11,
     "metadata": {},
     "output_type": "execute_result"
    }
   ],
   "source": [
    "'''*args - takes variable nuer of arguments for a function\n",
    "**kwargs - takes dictionary args '''"
   ]
  },
  {
   "cell_type": "code",
   "execution_count": 12,
   "id": "f94371b4-bf5c-48da-9c40-7ce27efdeeb4",
   "metadata": {},
   "outputs": [
    {
     "name": "stdout",
     "output_type": "stream",
     "text": [
      "((1, 2, 3, 4), {'a': [1, 2, 3], 'b': 'rakesh', 'c': 23.4})\n"
     ]
    }
   ],
   "source": [
    "def xyz1(*args,**kargs):\n",
    "    return args,kargs\n",
    "    \n",
    "print( xyz1(1,2,3,4,a=[1,2,3],b=\"rakesh\",c=23.4) )"
   ]
  },
  {
   "cell_type": "code",
   "execution_count": 13,
   "id": "8d2e0236-5f2a-4f3b-ae15-7234d2da4fcd",
   "metadata": {},
   "outputs": [
    {
     "data": {
      "text/plain": [
       "' Q4. What is a generator function in python? Why yield keyword is used? Give an example of a generator\\nfunction. '"
      ]
     },
     "execution_count": 13,
     "metadata": {},
     "output_type": "execute_result"
    }
   ],
   "source": [
    "''' Q4. What is a generator function in python? Why yield keyword is used? Give an example of a generator\n",
    "function. '''"
   ]
  },
  {
   "cell_type": "code",
   "execution_count": 14,
   "id": "42bbb864-6f23-4504-91ea-e7b54615be28",
   "metadata": {},
   "outputs": [
    {
     "data": {
      "text/plain": [
       "' generator is used when you want to iterate a huge list, it is executed one by one rather than loading the list in memory.\\nYield returns a generator object '"
      ]
     },
     "execution_count": 14,
     "metadata": {},
     "output_type": "execute_result"
    }
   ],
   "source": [
    "''' generator is used when you want to iterate a huge list, it is executed one by one rather than loading the list in memory.\n",
    "Yield returns a generator object '''\n"
   ]
  },
  {
   "cell_type": "code",
   "execution_count": 15,
   "id": "c88fd7b0-1edb-4dbf-a79e-9c144edd182e",
   "metadata": {},
   "outputs": [
    {
     "name": "stdout",
     "output_type": "stream",
     "text": [
      "1\n",
      "1\n",
      "2\n",
      "3\n",
      "5\n",
      "8\n",
      "13\n",
      "21\n",
      "34\n",
      "55\n"
     ]
    }
   ],
   "source": [
    "def sample_generator(num):\n",
    "    a,b = 0,1\n",
    "    \n",
    "    for i in range(num):\n",
    "        a,b = b,a+b\n",
    "        yield a\n",
    "        \n",
    "for i in sample_generator(10):\n",
    "    print(i)"
   ]
  },
  {
   "cell_type": "code",
   "execution_count": 16,
   "id": "7a2c6190-58f5-4a11-aa15-440df21e0d16",
   "metadata": {},
   "outputs": [
    {
     "data": {
      "text/plain": [
       "' Q5. Create a generator function for prime numbers less than 1000. Use the next() method to print the\\nfirst 20 prime numbers. '"
      ]
     },
     "execution_count": 16,
     "metadata": {},
     "output_type": "execute_result"
    }
   ],
   "source": [
    "''' Q5. Create a generator function for prime numbers less than 1000. Use the next() method to print the\n",
    "first 20 prime numbers. '''"
   ]
  },
  {
   "cell_type": "code",
   "execution_count": 17,
   "id": "7e077a9b-142d-461e-b550-781b779b11fd",
   "metadata": {},
   "outputs": [
    {
     "name": "stdout",
     "output_type": "stream",
     "text": [
      "<generator object prime_number at 0x7ff83665df50>\n",
      "2\n",
      "3\n",
      "5\n",
      "7\n",
      "9\n",
      "11\n",
      "13\n",
      "15\n",
      "17\n",
      "19\n",
      "21\n",
      "23\n",
      "25\n",
      "27\n",
      "29\n",
      "31\n",
      "33\n",
      "35\n",
      "37\n",
      "39\n"
     ]
    }
   ],
   "source": [
    "def prime_number():\n",
    "    n = 1\n",
    "    while True:\n",
    "        n += 1\n",
    "        if is_prime(n):\n",
    "            yield n\n",
    "\n",
    "def is_prime(n):\n",
    "    if (n <= 1):\n",
    "        return False\n",
    "    if (n == 2):\n",
    "        return True\n",
    "    if (n % 2 == 0):\n",
    "        return False\n",
    "    return True\n",
    "    \n",
    "gen = prime_number()\n",
    "print(gen)\n",
    "for i in range(20):\n",
    "    print(next(gen))\n",
    "\t"
   ]
  },
  {
   "cell_type": "code",
   "execution_count": null,
   "id": "fade6d2b-be52-486f-836b-7511f857faf7",
   "metadata": {},
   "outputs": [],
   "source": []
  }
 ],
 "metadata": {
  "kernelspec": {
   "display_name": "Python 3 (ipykernel)",
   "language": "python",
   "name": "python3"
  },
  "language_info": {
   "codemirror_mode": {
    "name": "ipython",
    "version": 3
   },
   "file_extension": ".py",
   "mimetype": "text/x-python",
   "name": "python",
   "nbconvert_exporter": "python",
   "pygments_lexer": "ipython3",
   "version": "3.10.8"
  }
 },
 "nbformat": 4,
 "nbformat_minor": 5
}
